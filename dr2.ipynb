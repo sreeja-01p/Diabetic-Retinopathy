{
  "cells": [
    {
      "cell_type": "markdown",
      "metadata": {
        "id": "view-in-github",
        "colab_type": "text"
      },
      "source": [
        "<a href=\"https://colab.research.google.com/github/sreeja-01p/Diabetic-Retinopathy/blob/main/dr2.ipynb\" target=\"_parent\"><img src=\"https://colab.research.google.com/assets/colab-badge.svg\" alt=\"Open In Colab\"/></a>"
      ]
    },
    {
      "cell_type": "code",
      "execution_count": null,
      "metadata": {
        "id": "lqkxIcq3VE7a"
      },
      "outputs": [],
      "source": [
        "import os\n",
        "import pandas as pd\n",
        "import numpy as np\n",
        "from PIL import Image\n",
        "import matplotlib.pyplot as plt\n",
        "from sklearn.model_selection import train_test_split\n",
        "from torchvision import transforms, models\n",
        "from torch.utils.data import Dataset, DataLoader\n",
        "import torch\n",
        "import torch.nn as nn\n",
        "import torch.optim as optim\n",
        "from tqdm import tqdm\n",
        "import seaborn as sns"
      ]
    },
    {
      "cell_type": "code",
      "execution_count": null,
      "metadata": {
        "colab": {
          "base_uri": "https://localhost:8080/"
        },
        "id": "nYvo9Yk1qKL4",
        "outputId": "f5186b6b-93b8-4e7d-c98d-c0e3f0d43871"
      },
      "outputs": [
        {
          "name": "stdout",
          "output_type": "stream",
          "text": [
            "Mounted at /content/drive\n"
          ]
        }
      ],
      "source": [
        "from google.colab import drive\n",
        "drive.mount('/content/drive')"
      ]
    },
    {
      "cell_type": "code",
      "execution_count": null,
      "metadata": {
        "id": "ukPYe9lGVRRt"
      },
      "outputs": [],
      "source": [
        "train_csv ='/content/drive/MyDrive/dataset/train.csv'\n",
        "train_image_dir ='/content/drive/MyDrive/dataset/train_images'"
      ]
    },
    {
      "cell_type": "code",
      "execution_count": null,
      "metadata": {
        "id": "ai4Gipu6-TcF"
      },
      "outputs": [],
      "source": [
        "test_csv = '/content/drive/MyDrive/dataset/test.csv'\n",
        "test_image_dir ='/content/drive/MyDrive/dataset/test_images'"
      ]
    },
    {
      "cell_type": "code",
      "execution_count": null,
      "metadata": {
        "id": "bf4pjnUWVwKl"
      },
      "outputs": [],
      "source": [
        "class DRDataset(Dataset):\n",
        "    def __init__(self, dataframe, img_dir, transform=None):\n",
        "        self.dataframe = dataframe\n",
        "        self.img_dir = img_dir\n",
        "        self.transform = transform\n",
        "\n",
        "    def __len__(self):\n",
        "        return len(self.dataframe)\n",
        "\n",
        "    def __getitem__(self, idx):\n",
        "        img_name = os.path.join(self.img_dir, f\"{self.dataframe.iloc[idx, 0]}.png\")\n",
        "        image = Image.open(img_name).convert('RGB')\n",
        "        label = self.dataframe.iloc[idx, 1] if 'diagnosis' in self.dataframe.columns else -1\n",
        "\n",
        "        if self.transform:\n",
        "            image = self.transform(image)\n",
        "\n",
        "        return image, label"
      ]
    },
    {
      "cell_type": "code",
      "execution_count": null,
      "metadata": {
        "colab": {
          "base_uri": "https://localhost:8080/"
        },
        "id": "Lm3N26a2WDuZ",
        "outputId": "4877bb3b-68a2-498e-b85d-e9401ffbdd11"
      },
      "outputs": [
        {
          "name": "stdout",
          "output_type": "stream",
          "text": [
            "        id_code  diagnosis\n",
            "0  000c1434d8d7          2\n",
            "1  001639a390f0          4\n",
            "2  0024cdab0c1e          1\n",
            "3  002c21358ce6          0\n",
            "4  005b95c28852          0\n"
          ]
        }
      ],
      "source": [
        "trainLabels = pd.read_csv(train_csv)\n",
        "print(trainLabels.head())"
      ]
    },
    {
      "cell_type": "code",
      "execution_count": null,
      "metadata": {
        "colab": {
          "base_uri": "https://localhost:8080/"
        },
        "id": "anKxPEk8-f1y",
        "outputId": "af6433bd-528a-4c30-efb7-2fdc07e66c2f"
      },
      "outputs": [
        {
          "name": "stdout",
          "output_type": "stream",
          "text": [
            "        id_code\n",
            "0  0005cfc8afb6\n",
            "1  003f0afdcd15\n",
            "2  006efc72b638\n",
            "3  00836aaacf06\n",
            "4  009245722fa4\n"
          ]
        }
      ],
      "source": [
        "#testLabels = pd.read_csv(test_csv)\n",
        "#print(testLabels.head())"
      ]
    },
    {
      "cell_type": "code",
      "execution_count": null,
      "metadata": {
        "id": "HYvHrMIPWLfL"
      },
      "outputs": [],
      "source": [
        "data_transforms = transforms.Compose([\n",
        "    transforms.Resize((224, 224)),\n",
        "    transforms.RandomHorizontalFlip(),\n",
        "    transforms.RandomRotation(10),\n",
        "    transforms.ToTensor(),\n",
        "    transforms.Normalize([0.485, 0.456, 0.406], [0.229, 0.224, 0.225])\n",
        "])"
      ]
    },
    {
      "cell_type": "code",
      "execution_count": null,
      "metadata": {
        "id": "oXt0g-MrWQEW"
      },
      "outputs": [],
      "source": [
        "#train_df, val_df = train_test_split(trainLabels, train_size=0.8, shuffle=True, random_state=1)"
      ]
    },
    {
      "cell_type": "code",
      "execution_count": null,
      "metadata": {
        "id": "FiLrYeSjnh8p"
      },
      "outputs": [],
      "source": [
        "train_val_df, test_df = train_test_split(trainLabels, train_size=0.8, shuffle=True, random_state=1)"
      ]
    },
    {
      "cell_type": "code",
      "execution_count": null,
      "metadata": {
        "id": "Rv3FozcHnnTb"
      },
      "outputs": [],
      "source": [
        "train_df, val_df = train_test_split(train_val_df, train_size=0.9, shuffle=True, random_state=1)"
      ]
    },
    {
      "cell_type": "code",
      "execution_count": null,
      "metadata": {
        "colab": {
          "base_uri": "https://localhost:8080/"
        },
        "id": "_DFV0_0t90V_",
        "outputId": "1b214804-9947-4675-9df6-fa7630d8831a"
      },
      "outputs": [
        {
          "name": "stdout",
          "output_type": "stream",
          "text": [
            "Train samples: 2636, Validation samples: 293, Test samples: 733\n"
          ]
        }
      ],
      "source": [
        "print(f\"Train samples: {len(train_df)}, Validation samples: {len(val_df)}, Test samples: {len(test_df)}\")"
      ]
    },
    {
      "cell_type": "code",
      "execution_count": null,
      "metadata": {
        "id": "MhtICWB8WRgs"
      },
      "outputs": [],
      "source": [
        "train_dataset = DRDataset(train_df, train_image_dir, transform=data_transforms)\n",
        "val_dataset = DRDataset(val_df, train_image_dir, transform=data_transforms)"
      ]
    },
    {
      "cell_type": "code",
      "execution_count": null,
      "metadata": {
        "id": "VvaB8J4--xGX"
      },
      "outputs": [],
      "source": [
        "train_loader = DataLoader(train_dataset, batch_size=32, shuffle=True)\n",
        "val_loader = DataLoader(val_dataset, batch_size=32, shuffle=False)"
      ]
    },
    {
      "cell_type": "code",
      "execution_count": null,
      "metadata": {
        "id": "rqOyGAQaLpl5"
      },
      "outputs": [],
      "source": [
        "#test_dataset = DRDataset(testLabels, test_image_dir, transform=data_transforms)\n",
        "test_dataset = DRDataset(test_df, train_image_dir, transform=data_transforms)\n",
        "test_loader = DataLoader(test_dataset, batch_size=32, shuffle=False)"
      ]
    },
    {
      "cell_type": "code",
      "execution_count": null,
      "metadata": {
        "colab": {
          "base_uri": "https://localhost:8080/"
        },
        "id": "6yTVE1MKXAuj",
        "outputId": "ceb086df-2d57-4b4c-98fd-48995c3abeaa"
      },
      "outputs": [
        {
          "name": "stdout",
          "output_type": "stream",
          "text": [
            "Index(['id_code', 'diagnosis'], dtype='object')\n",
            "        id_code  diagnosis\n",
            "0  000c1434d8d7          2\n",
            "1  001639a390f0          4\n",
            "2  0024cdab0c1e          1\n",
            "3  002c21358ce6          0\n",
            "4  005b95c28852          0\n"
          ]
        }
      ],
      "source": [
        "print(trainLabels.columns)\n",
        "print(trainLabels.head())"
      ]
    },
    {
      "cell_type": "code",
      "execution_count": null,
      "metadata": {
        "colab": {
          "base_uri": "https://localhost:8080/",
          "height": 576
        },
        "id": "YRJ8QJ9oWuPS",
        "outputId": "7979c309-4964-48db-d119-f273556e8379"
      },
      "outputs": [
        {
          "name": "stderr",
          "output_type": "stream",
          "text": [
            "<ipython-input-15-ef0e94c76488>:3: FutureWarning: \n",
            "\n",
            "Passing `palette` without assigning `hue` is deprecated and will be removed in v0.14.0. Assign the `x` variable to `hue` and set `legend=False` for the same effect.\n",
            "\n",
            "  sns.barplot(x=vc.index, y=vc, palette=\"rocket\")\n"
          ]
        },
        {
          "data": {
            "image/png": "[encoded data removed]",
            "text/plain": [
              "<Figure size 900x500 with 1 Axes>"
            ]
          },
          "metadata": {},
          "output_type": "display_data"
        }
      ],
      "source": [
        "vc = train_df['diagnosis'].value_counts()\n",
        "plt.figure(figsize=(9, 5))\n",
        "sns.barplot(x=vc.index, y=vc, palette=\"rocket\")\n",
        "plt.title(\"Number of pictures of each category\", fontsize=15)\n",
        "plt.show()"
      ]
    },
    {
      "cell_type": "code",
      "execution_count": null,
      "metadata": {
        "colab": {
          "base_uri": "https://localhost:8080/"
        },
        "id": "Riz7IWHiYC6l",
        "outputId": "3a38acb3-e5cd-4630-9b9b-d39b7bc581ed"
      },
      "outputs": [
        {
          "name": "stdout",
          "output_type": "stream",
          "text": [
            "running on:cpu\n"
          ]
        }
      ],
      "source": [
        "device = torch.device(\"cuda\" if torch.cuda.is_available() else \"cpu\")\n",
        "print (f\"running on:{device}\")"
      ]
    },
    {
      "cell_type": "code",
      "execution_count": null,
      "metadata": {
        "colab": {
          "base_uri": "https://localhost:8080/"
        },
        "id": "E7E2CgaTYFMD",
        "outputId": "3718d89d-7e70-4a3a-f9ae-3fcadbf9e79d"
      },
      "outputs": [
        {
          "name": "stderr",
          "output_type": "stream",
          "text": [
            "/usr/local/lib/python3.10/dist-packages/torchvision/models/_utils.py:208: UserWarning: The parameter 'pretrained' is deprecated since 0.13 and may be removed in the future, please use 'weights' instead.\n",
            "  warnings.warn(\n",
            "/usr/local/lib/python3.10/dist-packages/torchvision/models/_utils.py:223: UserWarning: Arguments other than a weight enum or `None` for 'weights' are deprecated since 0.13 and may be removed in the future. The current behavior is equivalent to passing `weights=ResNet50_Weights.IMAGENET1K_V1`. You can also use `weights=ResNet50_Weights.DEFAULT` to get the most up-to-date weights.\n",
            "  warnings.warn(msg)\n",
            "Downloading: \"https://download.pytorch.org/models/resnet50-0676ba61.pth\" to /root/.cache/torch/hub/checkpoints/resnet50-0676ba61.pth\n",
            "100%|██████████| 97.8M/97.8M [00:01<00:00, 94.2MB/s]\n"
          ]
        }
      ],
      "source": [
        "model = models.resnet50(pretrained=True)\n",
        "for param in model.parameters():\n",
        "    param.requires_grad = False  #Freeze pretrained layers"
      ]
    },
    {
      "cell_type": "code",
      "execution_count": null,
      "metadata": {
        "id": "620efDOdYNQO"
      },
      "outputs": [],
      "source": [
        "num_classes = trainLabels['diagnosis'].nunique()\n",
        "model.fc = nn.Sequential(\n",
        "    nn.Linear(model.fc.in_features, 128),\n",
        "    nn.ReLU(),\n",
        "    nn.Dropout(0.3),\n",
        "    nn.Linear(128, num_classes)\n",
        ")\n",
        "model = model.to(device)"
      ]
    },
    {
      "cell_type": "code",
      "execution_count": null,
      "metadata": {
        "id": "c0QVGMwpYUUE"
      },
      "outputs": [],
      "source": [
        "criterion = nn.CrossEntropyLoss()\n",
        "optimizer = optim.Adam(model.fc.parameters(), lr=0.001)"
      ]
    },
    {
      "cell_type": "code",
      "execution_count": null,
      "metadata": {
        "colab": {
          "background_save": true,
          "base_uri": "https://localhost:8080/"
        },
        "id": "zBefPuskYYz1",
        "outputId": "3bc5e863-6ce7-4c6a-fb53-b9a1a51e6d3b"
      },
      "outputs": [
        {
          "name": "stderr",
          "output_type": "stream",
          "text": [
            "Epoch 1/10: 100%|██████████| 83/83 [33:52<00:00, 24.48s/it]\n"
          ]
        },
        {
          "name": "stdout",
          "output_type": "stream",
          "text": [
            "Epoch 1/10, Train Loss: 0.9501, Train Acc: 0.6593, Val Loss: 0.7716, Val Acc: 0.7065\n"
          ]
        },
        {
          "name": "stderr",
          "output_type": "stream",
          "text": [
            "Epoch 2/10: 100%|██████████| 83/83 [20:15<00:00, 14.64s/it]\n"
          ]
        },
        {
          "name": "stdout",
          "output_type": "stream",
          "text": [
            "Epoch 2/10, Train Loss: 0.7522, Train Acc: 0.7231, Val Loss: 0.7238, Val Acc: 0.7099\n"
          ]
        },
        {
          "name": "stderr",
          "output_type": "stream",
          "text": [
            "Epoch 3/10: 100%|██████████| 83/83 [20:17<00:00, 14.66s/it]\n"
          ]
        },
        {
          "name": "stdout",
          "output_type": "stream",
          "text": [
            "Epoch 3/10, Train Loss: 0.7156, Train Acc: 0.7386, Val Loss: 0.7032, Val Acc: 0.7304\n"
          ]
        },
        {
          "name": "stderr",
          "output_type": "stream",
          "text": [
            "Epoch 4/10: 100%|██████████| 83/83 [20:12<00:00, 14.61s/it]\n"
          ]
        },
        {
          "name": "stdout",
          "output_type": "stream",
          "text": [
            "Epoch 4/10, Train Loss: 0.6748, Train Acc: 0.7530, Val Loss: 0.7084, Val Acc: 0.7270\n"
          ]
        },
        {
          "name": "stderr",
          "output_type": "stream",
          "text": [
            "Epoch 5/10: 100%|██████████| 83/83 [20:09<00:00, 14.58s/it]\n"
          ]
        },
        {
          "name": "stdout",
          "output_type": "stream",
          "text": [
            "Epoch 5/10, Train Loss: 0.6966, Train Acc: 0.7303, Val Loss: 0.7224, Val Acc: 0.7338\n"
          ]
        },
        {
          "name": "stderr",
          "output_type": "stream",
          "text": [
            "Epoch 6/10: 100%|██████████| 83/83 [20:12<00:00, 14.61s/it]\n"
          ]
        },
        {
          "name": "stdout",
          "output_type": "stream",
          "text": [
            "Epoch 6/10, Train Loss: 0.6508, Train Acc: 0.7561, Val Loss: 0.6841, Val Acc: 0.7509\n"
          ]
        },
        {
          "name": "stderr",
          "output_type": "stream",
          "text": [
            "Epoch 7/10: 100%|██████████| 83/83 [20:09<00:00, 14.58s/it]\n"
          ]
        },
        {
          "name": "stdout",
          "output_type": "stream",
          "text": [
            "Epoch 7/10, Train Loss: 0.6476, Train Acc: 0.7568, Val Loss: 0.6779, Val Acc: 0.7543\n"
          ]
        },
        {
          "name": "stderr",
          "output_type": "stream",
          "text": [
            "Epoch 8/10: 100%|██████████| 83/83 [20:15<00:00, 14.64s/it]\n"
          ]
        },
        {
          "name": "stdout",
          "output_type": "stream",
          "text": [
            "Epoch 8/10, Train Loss: 0.6574, Train Acc: 0.7553, Val Loss: 0.6970, Val Acc: 0.7372\n"
          ]
        },
        {
          "name": "stderr",
          "output_type": "stream",
          "text": [
            "Epoch 9/10: 100%|██████████| 83/83 [20:19<00:00, 14.69s/it]\n"
          ]
        },
        {
          "name": "stdout",
          "output_type": "stream",
          "text": [
            "Epoch 9/10, Train Loss: 0.6313, Train Acc: 0.7595, Val Loss: 0.6773, Val Acc: 0.7474\n"
          ]
        },
        {
          "name": "stderr",
          "output_type": "stream",
          "text": [
            "Epoch 10/10: 100%|██████████| 83/83 [20:11<00:00, 14.59s/it]\n"
          ]
        },
        {
          "name": "stdout",
          "output_type": "stream",
          "text": [
            "Epoch 10/10, Train Loss: 0.6394, Train Acc: 0.7610, Val Loss: 0.7228, Val Acc: 0.7474\n"
          ]
        }
      ],
      "source": [
        "epochs = 10\n",
        "train_losses, val_losses = [], []\n",
        "train_accs, val_accs = [], []\n",
        "\n",
        "for epoch in range(epochs):\n",
        "    #training\n",
        "    model.train()\n",
        "    running_loss, correct, total = 0, 0, 0\n",
        "    for inputs, labels in tqdm(train_loader, desc=f\"Epoch {epoch+1}/{epochs}\"):\n",
        "        inputs, labels = inputs.to(device), labels.to(device)\n",
        "        optimizer.zero_grad()\n",
        "        outputs = model(inputs)\n",
        "        loss = criterion(outputs, labels)\n",
        "        loss.backward()\n",
        "        optimizer.step()\n",
        "        running_loss += loss.item()\n",
        "        _, preds = torch.max(outputs, 1)\n",
        "        correct += (preds == labels).sum().item()\n",
        "        total += labels.size(0)\n",
        "\n",
        "    train_losses.append(running_loss / len(train_loader))\n",
        "    train_accs.append(correct / total)\n",
        "\n",
        "    #validation\n",
        "    model.eval()\n",
        "    val_loss, correct, total = 0, 0, 0\n",
        "    with torch.no_grad():\n",
        "        for inputs, labels in val_loader:\n",
        "            inputs, labels = inputs.to(device), labels.to(device)\n",
        "            outputs = model(inputs)\n",
        "            loss = criterion(outputs, labels)\n",
        "            val_loss += loss.item()\n",
        "            _, preds = torch.max(outputs, 1)\n",
        "            correct += (preds == labels).sum().item()\n",
        "            total += labels.size(0)\n",
        "\n",
        "    val_losses.append(val_loss / len(val_loader))\n",
        "    val_accs.append(correct / total)\n",
        "\n",
        "    print(f\"Epoch {epoch+1}/{epochs}, Train Loss: {train_losses[-1]:.4f}, \"\n",
        "          f\"Train Acc: {train_accs[-1]:.4f}, Val Loss: {val_losses[-1]:.4f}, \"\n",
        "          f\"Val Acc: {val_accs[-1]:.4f}\")"
      ]
    },
    {
      "cell_type": "code",
      "execution_count": 23,
      "metadata": {
        "id": "KgKM5g-N_SPW",
        "colab": {
          "base_uri": "https://localhost:8080/",
          "height": 468
        },
        "outputId": "d6ea4a5f-d26f-4817-c543-d91dbc36ca29"
      },
      "outputs": [
        {
          "output_type": "display_data",
          "data": {
            "text/plain": [
              "<Figure size 1000x500 with 1 Axes>"
            ],
            "image/png": "[encoded data removed]"
          },
          "metadata": {}
        }
      ],
      "source": [
        "plt.figure(figsize=(10, 5))\n",
        "plt.plot(train_losses, label=\"Train Loss\")\n",
        "plt.plot(val_losses, label=\"Validation Loss\")\n",
        "plt.legend()\n",
        "plt.title(\"Loss\")\n",
        "plt.show()"
      ]
    },
    {
      "cell_type": "code",
      "execution_count": null,
      "metadata": {
        "colab": {
          "background_save": true
        },
        "id": "ZquSyfAT_RRs",
        "outputId": "cd5a5315-15e8-4dd8-da8d-6940b5f12982"
      },
      "outputs": [
        {
          "data": {
            "image/png": "[encoded data removed]",
            "text/plain": [
              "<Figure size 1000x500 with 1 Axes>"
            ]
          },
          "metadata": {},
          "output_type": "display_data"
        }
      ],
      "source": [
        "plt.figure(figsize=(10, 5))\n",
        "plt.plot(train_accs, label=\"Train Accuracy\")\n",
        "plt.plot(val_accs, label=\"Validation Accuracy\")\n",
        "plt.legend()\n",
        "plt.title(\"Accuracy\")\n",
        "plt.show()"
      ]
    },
    {
      "cell_type": "markdown",
      "metadata": {
        "id": "60bsw235APzp"
      },
      "source": [
        "testing"
      ]
    },
    {
      "cell_type": "code",
      "execution_count": 28,
      "metadata": {
        "id": "6RgK4z9-_XMh",
        "colab": {
          "base_uri": "https://localhost:8080/"
        },
        "outputId": "aaf0e713-0a7f-4162-c327-bae1380f2e26"
      },
      "outputs": [
        {
          "output_type": "stream",
          "name": "stdout",
          "text": [
            "Predictions for test set: [1, 2, 0, 0, 0, 4, 2, 2, 2, 2]\n"
          ]
        }
      ],
      "source": [
        "model.eval()\n",
        "predictions,true_labels = [],[]\n",
        "with torch.no_grad():\n",
        "    for inputs, labels in test_loader:\n",
        "        inputs, labels = inputs.to(device), labels.to(device)\n",
        "        outputs = model(inputs)\n",
        "        _, preds = torch.max(outputs, 1)\n",
        "        predictions.extend(preds.cpu().numpy())\n",
        "        true_labels.extend(labels.cpu().numpy())\n",
        "\n",
        "print(\"Predictions for test set:\", predictions[:10])"
      ]
    },
    {
      "cell_type": "code",
      "source": [
        "print(\"True Labels:\", true_labels[:10])"
      ],
      "metadata": {
        "colab": {
          "base_uri": "https://localhost:8080/"
        },
        "id": "d0E4zpfVkxcT",
        "outputId": "26136686-dee7-4590-de6f-38a959b9fbac"
      },
      "execution_count": 30,
      "outputs": [
        {
          "output_type": "stream",
          "name": "stdout",
          "text": [
            "True Labels: [1, 2, 0, 0, 0, 3, 2, 2, 2, 2]\n"
          ]
        }
      ]
    },
    {
      "cell_type": "code",
      "execution_count": 29,
      "metadata": {
        "id": "VgPDRcfTncIg",
        "colab": {
          "base_uri": "https://localhost:8080/"
        },
        "outputId": "0107167e-4f1e-4991-c1d9-aacb737ce9e9"
      },
      "outputs": [
        {
          "output_type": "stream",
          "name": "stdout",
          "text": [
            "Test Accuracy: 76.81%\n"
          ]
        }
      ],
      "source": [
        "from sklearn.metrics import accuracy_score\n",
        "test_accuracy = accuracy_score(true_labels, predictions)\n",
        "print(f\"Test Accuracy: {test_accuracy * 100:.2f}%\")"
      ]
    }
  ],
  "metadata": {
    "colab": {
      "provenance": [],
      "authorship_tag": "ABX9TyNdeC13rHCjHecyZSNOIGXi",
      "include_colab_link": true
    },
    "kernelspec": {
      "display_name": "Python 3",
      "name": "python3"
    },
    "language_info": {
      "name": "python"
    }
  },
  "nbformat": 4,
  "nbformat_minor": 0
}